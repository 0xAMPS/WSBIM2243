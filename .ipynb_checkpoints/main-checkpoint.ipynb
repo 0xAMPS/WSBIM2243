{
 "cells": [
  {
   "cell_type": "markdown",
   "metadata": {},
   "source": [
<<<<<<< HEAD
    "# Segmentation of brain lesions in patients with Multiple Sclerosis"
   ]
  },
  {
   "cell_type": "markdown",
   "metadata": {},
   "source": [
    "Short description ..."
   ]
  },
  {
   "cell_type": "markdown",
   "metadata": {},
   "source": [
    "## Part 1 : Image preprocessing "
   ]
  },
  {
   "cell_type": "markdown",
   "metadata": {},
   "source": [
    "The goal of this section is to import the images by converting DICOM to NIFTI and register the images."
=======
    "Hello world "
>>>>>>> 9c4f9a7e83dd24016bba7b5027f8a848658a73b7
   ]
  },
  {
   "cell_type": "code",
<<<<<<< HEAD
   "execution_count": 19,
   "metadata": {},
   "outputs": [
    {
     "name": "stdout",
     "output_type": "stream",
     "text": [
      "Collecting numpy>=1.19 (from -r requirements.txt (line 1))\n",
      "  Using cached https://files.pythonhosted.org/packages/68/30/a8ce4cb0c084cc1442408807dde60f9796356ea056ca6ef81c865a3d4e62/numpy-1.20.1-cp37-cp37m-macosx_10_9_x86_64.whl\n",
      "Collecting matplotlib>=3.3.2 (from -r requirements.txt (line 2))\n",
      "  Using cached https://files.pythonhosted.org/packages/7e/32/46285e083ce5b4a46468236e3073c794324700e62d7fbf26894ec390d99a/matplotlib-3.3.4-cp37-cp37m-macosx_10_9_x86_64.whl\n",
      "Collecting dicom2nifti>=2.2.12 (from -r requirements.txt (line 3))\n",
      "  Downloading https://files.pythonhosted.org/packages/9b/be/7611901c0ef7f0b60024bcbe3af0f1e0baefe0d4b48fe5f53bd6b621ae22/dicom2nifti-2.2.12.tar.gz\n",
      "Requirement already satisfied: python-dateutil>=2.1 in /Users/asikh/anaconda3/lib/python3.7/site-packages (from matplotlib>=3.3.2->-r requirements.txt (line 2)) (2.8.0)\n",
      "Requirement already satisfied: cycler>=0.10 in /Users/asikh/anaconda3/lib/python3.7/site-packages (from matplotlib>=3.3.2->-r requirements.txt (line 2)) (0.10.0)\n",
      "Collecting pillow>=6.2.0 (from matplotlib>=3.3.2->-r requirements.txt (line 2))\n",
      "\u001b[?25l  Downloading https://files.pythonhosted.org/packages/61/44/ea4756fc223edc0cfce341b2444a21aeece7693681dd96d0cc1c60138e20/Pillow-8.1.0-cp37-cp37m-macosx_10_10_x86_64.whl (2.2MB)\n",
      "\u001b[K    100% |████████████████████████████████| 2.2MB 5.0MB/s eta 0:00:01\n",
      "\u001b[?25hRequirement already satisfied: kiwisolver>=1.0.1 in /Users/asikh/anaconda3/lib/python3.7/site-packages (from matplotlib>=3.3.2->-r requirements.txt (line 2)) (1.0.1)\n",
      "Requirement already satisfied: pyparsing!=2.0.4,!=2.1.2,!=2.1.6,>=2.0.3 in /Users/asikh/anaconda3/lib/python3.7/site-packages (from matplotlib>=3.3.2->-r requirements.txt (line 2)) (2.3.1)\n",
      "Collecting nibabel (from dicom2nifti>=2.2.12->-r requirements.txt (line 3))\n",
      "\u001b[?25l  Downloading https://files.pythonhosted.org/packages/42/bf/ba089fec67237f6439c345b8977ca6dde67402ada6592bf84c2c78d557ff/nibabel-3.2.1-py3-none-any.whl (3.3MB)\n",
      "\u001b[K    100% |████████████████████████████████| 3.3MB 6.6MB/s eta 0:00:01\n",
      "\u001b[?25hRequirement already satisfied: scipy in /Users/asikh/anaconda3/lib/python3.7/site-packages (from dicom2nifti>=2.2.12->-r requirements.txt (line 3)) (1.2.1)\n",
      "Collecting pydicom>=1.3.0 (from dicom2nifti>=2.2.12->-r requirements.txt (line 3))\n",
      "\u001b[?25l  Downloading https://files.pythonhosted.org/packages/f4/15/df16546bc59bfca390cf072d473fb2c8acd4231636f64356593a63137e55/pydicom-2.1.2-py3-none-any.whl (1.9MB)\n",
      "\u001b[K    100% |████████████████████████████████| 1.9MB 6.2MB/s eta 0:00:01\n",
      "\u001b[?25hRequirement already satisfied: six>=1.5 in /Users/asikh/anaconda3/lib/python3.7/site-packages (from python-dateutil>=2.1->matplotlib>=3.3.2->-r requirements.txt (line 2)) (1.12.0)\n",
      "Requirement already satisfied: setuptools in /Users/asikh/anaconda3/lib/python3.7/site-packages (from kiwisolver>=1.0.1->matplotlib>=3.3.2->-r requirements.txt (line 2)) (40.8.0)\n",
      "Requirement already satisfied: packaging>=14.3 in /Users/asikh/anaconda3/lib/python3.7/site-packages (from nibabel->dicom2nifti>=2.2.12->-r requirements.txt (line 3)) (19.0)\n",
      "Building wheels for collected packages: dicom2nifti\n",
      "  Building wheel for dicom2nifti (setup.py) ... \u001b[?25ldone\n",
      "\u001b[?25h  Stored in directory: /Users/asikh/Library/Caches/pip/wheels/50/d5/44/984e7449cae4fcacfa4ee0481274a052d52fbcd66e03e377f4\n",
      "Successfully built dicom2nifti\n",
      "\u001b[31mtables 3.5.1 requires mock>=2.0, which is not installed.\u001b[0m\n",
      "Installing collected packages: numpy, pillow, matplotlib, nibabel, pydicom, dicom2nifti\n",
      "  Found existing installation: numpy 1.16.2\n",
      "    Uninstalling numpy-1.16.2:\n",
      "      Successfully uninstalled numpy-1.16.2\n",
      "  Found existing installation: Pillow 5.4.1\n",
      "    Uninstalling Pillow-5.4.1:\n",
      "      Successfully uninstalled Pillow-5.4.1\n",
      "  Found existing installation: matplotlib 3.0.3\n",
      "    Uninstalling matplotlib-3.0.3:\n",
      "      Successfully uninstalled matplotlib-3.0.3\n",
      "Successfully installed dicom2nifti-2.2.12 matplotlib-3.3.4 nibabel-3.2.1 numpy-1.20.1 pillow-8.1.0 pydicom-2.1.2\n"
     ]
    }
   ],
   "source": [
    "# Dependencies for this notebook\n",
    "#!python3 -m pip install --user numpy imageio matplotlib scipy dicom2nifti\n",
    "import sys\n",
    "!{sys.executable} -m pip install -r requirements.txt"
   ]
  },
  {
   "cell_type": "code",
   "execution_count": 20,
   "metadata": {},
   "outputs": [],
   "source": [
    "# Required imports\n",
    "import numpy as np\n",
    "import scipy.signal as sig\n",
    "from matplotlib import pyplot as plt\n",
    "import imageio\n",
    "import dicom2nifti"
=======
   "execution_count": null,
   "metadata": {},
   "outputs": [],
   "source": [
    "print(\"Hello World!\\n***This Hello World was done by someone else***\")"
>>>>>>> 9c4f9a7e83dd24016bba7b5027f8a848658a73b7
   ]
  },
  {
   "cell_type": "code",
   "execution_count": null,
   "metadata": {},
   "outputs": [],
<<<<<<< HEAD
   "source": [
    "dicom2nifti.convert_directory(dicom_directory, output_folder)  AS"
   ]
=======
   "source": []
>>>>>>> 9c4f9a7e83dd24016bba7b5027f8a848658a73b7
  }
 ],
 "metadata": {
  "kernelspec": {
   "display_name": "Python 3",
   "language": "python",
   "name": "python3"
  },
  "language_info": {
   "codemirror_mode": {
    "name": "ipython",
    "version": 3
   },
   "file_extension": ".py",
   "mimetype": "text/x-python",
   "name": "python",
   "nbconvert_exporter": "python",
   "pygments_lexer": "ipython3",
<<<<<<< HEAD
   "version": "3.7.3"
=======
   "version": "3.7.9"
>>>>>>> 9c4f9a7e83dd24016bba7b5027f8a848658a73b7
  }
 },
 "nbformat": 4,
 "nbformat_minor": 2
}
